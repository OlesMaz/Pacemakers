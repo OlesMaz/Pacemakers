{
 "cells": [
  {
   "cell_type": "markdown",
   "id": "9f6c396d",
   "metadata": {},
   "source": [
    "## Question 16"
   ]
  },
  {
   "cell_type": "markdown",
   "id": "b9b4c824",
   "metadata": {},
   "source": [
    "Write a program that removes any repeated items from a list so that each item appears at most once. For instance, the list $[1,1,2,3,4,3,0,0]$ would become $[1,2,3,4,0]$."
   ]
  },
  {
   "cell_type": "markdown",
   "id": "56d7b546",
   "metadata": {},
   "source": [
    "## Answer"
   ]
  },
  {
   "cell_type": "code",
   "execution_count": 2,
   "id": "a713d496",
   "metadata": {},
   "outputs": [
    {
     "name": "stdout",
     "output_type": "stream",
     "text": [
      "Without repeated items: [0, 1, 2, 3, 4]\n"
     ]
    }
   ],
   "source": [
    "def remove_repeated_items(lst):\n",
    "    \"\"\"Removes any repeated items from a list\"\"\"\n",
    "    return list(set(lst))\n",
    "\n",
    "example = [1, 1, 2, 3, 4, 3, 0, 0]\n",
    "print(f\"Without repeated items: {remove_repeated_items(example)}\")\n"
   ]
  }
 ],
 "metadata": {
  "kernelspec": {
   "display_name": "Python 3 (ipykernel)",
   "language": "python",
   "name": "python3"
  },
  "language_info": {
   "codemirror_mode": {
    "name": "ipython",
    "version": 3
   },
   "file_extension": ".py",
   "mimetype": "text/x-python",
   "name": "python",
   "nbconvert_exporter": "python",
   "pygments_lexer": "ipython3",
   "version": "3.9.12"
  }
 },
 "nbformat": 4,
 "nbformat_minor": 5
}
