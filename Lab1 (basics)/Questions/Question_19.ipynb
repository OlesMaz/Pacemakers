{
 "cells": [
  {
   "cell_type": "markdown",
   "id": "550872cf",
   "metadata": {},
   "source": [
    "## Question 19"
   ]
  },
  {
   "cell_type": "markdown",
   "id": "3ac9eb83",
   "metadata": {},
   "source": [
    "Sort a tuple of tuples by 2nd item. For example, the output for the tuple $(('a', 23),('b', 37),('c', 11), ('d',29))$ should be $(('c', 11), ('a', 23), ('d', 29), ('b', 37))$"
   ]
  },
  {
   "cell_type": "markdown",
   "id": "e1d64bc1",
   "metadata": {},
   "source": [
    "## Answer"
   ]
  },
  {
   "cell_type": "code",
   "execution_count": 10,
   "id": "d6c36613",
   "metadata": {},
   "outputs": [
    {
     "name": "stdout",
     "output_type": "stream",
     "text": [
      "(('c', 11), ('a', 23), ('d', 29), ('b', 37))\n"
     ]
    }
   ],
   "source": [
    "def sort_tuple(tup):\n",
    "    \"\"\"Function sorts a tuple of tuples by 2nd item\"\"\"\n",
    "    lst = list(tup)\n",
    "    lst.sort(key = lambda x: x[1])\n",
    "    return tuple(lst)\n",
    "\n",
    "print(sort_tuple(((\"a\", 23), (\"b\", 37), (\"c\", 11), (\"d\", 29))))"
   ]
  }
 ],
 "metadata": {
  "kernelspec": {
   "display_name": "Python 3 (ipykernel)",
   "language": "python",
   "name": "python3"
  },
  "language_info": {
   "codemirror_mode": {
    "name": "ipython",
    "version": 3
   },
   "file_extension": ".py",
   "mimetype": "text/x-python",
   "name": "python",
   "nbconvert_exporter": "python",
   "pygments_lexer": "ipython3",
   "version": "3.9.12"
  }
 },
 "nbformat": 4,
 "nbformat_minor": 5
}
