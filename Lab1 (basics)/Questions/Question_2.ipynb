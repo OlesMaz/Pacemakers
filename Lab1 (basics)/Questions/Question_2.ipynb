{
 "cells": [
  {
   "cell_type": "markdown",
   "id": "833d0c6c",
   "metadata": {},
   "source": [
    "## Question 2"
   ]
  },
  {
   "cell_type": "markdown",
   "id": "702c5955",
   "metadata": {},
   "source": [
    "**Convert Between °C and °F.** Convert temperatures from one system to another.\n",
    "- Create a print statement to convert 18.5° C to °F. \n",
    "- Create a print statement to convert -4° F to °C."
   ]
  },
  {
   "cell_type": "markdown",
   "id": "2aea4290",
   "metadata": {},
   "source": [
    "## Answer"
   ]
  },
  {
   "cell_type": "code",
   "execution_count": 1,
   "id": "3929a7f4",
   "metadata": {},
   "outputs": [
    {
     "name": "stdout",
     "output_type": "stream",
     "text": [
      "18.5 °C = 65.3 °F\n",
      "-4 °F = -20.0 °C\n"
     ]
    }
   ],
   "source": [
    "def convert(temp1, convert_to=\"F\"):\n",
    "    \"\"\"Function converts between °C and °F. \"convert_to\" argument accepts temprature unit you want to convert to (C or F).\"\"\"\n",
    "    if convert_to == \"F\":\n",
    "        return temp1 * 1.8 + 32\n",
    "    return (temp1 - 32) / 1.8\n",
    "\n",
    "print(f\"18.5 °C = {round(convert(18.5, 'F'),1)} °F\")\n",
    "print(f\"-4 °F = {round(convert(-4, 'C'),1)} °C\")"
   ]
  }
 ],
 "metadata": {
  "kernelspec": {
   "display_name": "Python 3 (ipykernel)",
   "language": "python",
   "name": "python3"
  },
  "language_info": {
   "codemirror_mode": {
    "name": "ipython",
    "version": 3
   },
   "file_extension": ".py",
   "mimetype": "text/x-python",
   "name": "python",
   "nbconvert_exporter": "python",
   "pygments_lexer": "ipython3",
   "version": "3.9.12"
  }
 },
 "nbformat": 4,
 "nbformat_minor": 5
}
