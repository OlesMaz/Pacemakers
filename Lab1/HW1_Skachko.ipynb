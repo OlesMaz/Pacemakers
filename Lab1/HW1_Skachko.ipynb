{
 "cells": [
  {
   "cell_type": "raw",
   "id": "4a5645a0",
   "metadata": {},
   "source": [
    "№5.\n",
    "Write a Python program which accepts the user's first and last name and print them in reverse order with a space between them."
   ]
  },
  {
   "cell_type": "code",
   "execution_count": 93,
   "id": "d77fbfa9",
   "metadata": {},
   "outputs": [
    {
     "name": "stdout",
     "output_type": "stream",
     "text": [
      "Print your first name: Oleksii\n",
      "Print your last name: Skachko\n",
      "In reverse orderOkhcaks Iiskelo\n"
     ]
    }
   ],
   "source": [
    "first_name = input(\"Print your first name: \")\n",
    "last_name = input(\"Print your last name: \") \n",
    "print(f'In reverse order: {last_name[::-1].capitalize()} {first_name[::-1].capitalize()}')"
   ]
  },
  {
   "cell_type": "code",
   "execution_count": 92,
   "id": "775684c1",
   "metadata": {},
   "outputs": [
    {
     "name": "stdout",
     "output_type": "stream",
     "text": [
      "Print your first and last name (with space between them): Oleksii Skachko\n",
      "In reverse order: Okhcaks Iiskelo\n"
     ]
    }
   ],
   "source": [
    "first_and_last_name = input(\"Print your first and last name (with space between them): \")\n",
    "l = first_and_last_name.split()\n",
    "first_name = l[0]\n",
    "last_name = l[1]\n",
    "print(f'In reverse order: {last_name[::-1].capitalize()} {first_name[::-1].capitalize()}')"
   ]
  },
  {
   "cell_type": "raw",
   "id": "89322463",
   "metadata": {},
   "source": [
    "№9.\n",
    "Write a program that asks the user to enter an angle between -180° and 180°. Using an expression with the modulo operator, convert the angle to its equivalent between 0° and 360°."
   ]
  },
  {
   "cell_type": "code",
   "execution_count": 7,
   "id": "b54ebb2e",
   "metadata": {},
   "outputs": [
    {
     "name": "stdout",
     "output_type": "stream",
     "text": [
      "Enter an angle between -180° and 180°: -90\n",
      "Equivalent between 0° and 360° = 270°\n"
     ]
    }
   ],
   "source": [
    "print(f\"Equivalent between 0° and 360° = {(int(input('Enter an angle between -180° and 180°: ')))%360}°\")      "
   ]
  },
  {
   "cell_type": "raw",
   "id": "1158f8f3",
   "metadata": {},
   "source": [
    "№11 & 21. \n",
    "Write a program that asks the user to enter a power. Then find the last two digits of 2 raised to that power."
   ]
  },
  {
   "cell_type": "code",
   "execution_count": 21,
   "id": "0f52982e",
   "metadata": {},
   "outputs": [
    {
     "name": "stdout",
     "output_type": "stream",
     "text": [
      "Enter power: 1555\n",
      "2 raised to 1555 power = 1263697881685574333801492175141372749630455544778949368930461306881445667322883316472393249119192245685950226775874210254218810872978451110281668454195278460462150891277713525844623794067305398102573996120414785402357597265149086457901291731471306831952774766968072137673001326493888638307162738638342518404740006076335569996640017192878215502275846910955173180192793445519404108968894169772129452127556996299223380996236756130215149344863673640213285311788779692883968\n",
      "Pre-last digit = 6\n",
      "Last digit = 8\n"
     ]
    }
   ],
   "source": [
    "def exponentiation_to_x(power):\n",
    "    ''' the function that raises 2 to the power from input () '''\n",
    "    ans = 2**power \n",
    "    if ans >= 10 : \n",
    "        #for at least two-digit numbers\n",
    "        last_digit = int(ans%10)\n",
    "        pre_last = int((ans%100 - last_digit)/10)\n",
    "        print(f'2 raised to {power} power = {ans}\\nPre-last digit = {pre_last}\\nLast digit = {last_digit}')\n",
    "    elif 0 <= ans < 10 and power >=0 :\n",
    "        #for one-digit numbers\n",
    "        last_digit = int(ans%10)\n",
    "        print(f'2 raised to {power} power = {ans}\\nLast digit = {last_digit}')\n",
    "    else:\n",
    "        print('Power must be positive integer')\n",
    "\n",
    "        \n",
    "exponentiation_to_x(int(input(\"Enter power: \")))"
   ]
  },
  {
   "cell_type": "raw",
   "id": "49808faa",
   "metadata": {},
   "source": [
    "№14.\n",
    "Write a program that lets the user play Rock-Paper-Scissors against the computer. There should be three rounds, and after those three rounds, your program should print out who won and lost or that there is a tie."
   ]
  },
  {
   "cell_type": "code",
   "execution_count": 43,
   "id": "1e88956e",
   "metadata": {},
   "outputs": [
    {
     "name": "stdout",
     "output_type": "stream",
     "text": [
      "Enter a choice (Rock, Paper, Scissors): Rock\n",
      "\n",
      "You chose Rock, computer chose Scissors.\n",
      "\n",
      "Rock smashes scissors! You win!\n",
      "Enter a choice (Rock, Paper, Scissors): Paper\n",
      "\n",
      "You chose Paper, computer chose Scissors.\n",
      "\n",
      "Scissors cuts paper! You lose.\n",
      "Enter a choice (Rock, Paper, Scissors): Scissors\n",
      "\n",
      "You chose Scissors, computer chose Paper.\n",
      "\n",
      "Scissors cuts paper! You win!\n",
      "\n",
      "2:1 You win!\n"
     ]
    }
   ],
   "source": [
    "import random\n",
    "\n",
    "user_points = 0\n",
    "computer_points = 0\n",
    "\n",
    "def Rock_Paper_Scissors(user_action):\n",
    "    \"\"\"Create the function with: 2 global counters, list of possible actions and check all devlopments of game\"\"\"\n",
    "    global user_points\n",
    "    global computer_points\n",
    "    possible_actions = [\"Rock\", \"Paper\", \"Scissors\"]\n",
    "    computer_action = random.choice(possible_actions)\n",
    "    print(f\"\\nYou chose {user_action}, computer chose {computer_action}.\\n\")\n",
    "\n",
    "    if user_action == computer_action:\n",
    "        user_points += 1\n",
    "        computer_points += 1 \n",
    "        print(f\"Both players selected {computer_action}. It's a tie!\")\n",
    "    elif user_action == \"Rock\":\n",
    "        if computer_action == \"Scissors\":\n",
    "            user_points += 1\n",
    "            print(\"Rock smashes scissors! You win!\")\n",
    "        else:\n",
    "            computer_points += 1\n",
    "            print(\"Paper covers rock! You lose.\")\n",
    "    elif user_action == \"Paper\":\n",
    "        if computer_action == \"Rock\":\n",
    "            user_points += 1\n",
    "            print(\"Paper covers rock! You win!\")\n",
    "        else:\n",
    "            computer_points += 1\n",
    "            print(\"Scissors cuts paper! You lose.\")\n",
    "    elif user_action == \"Scissors\":\n",
    "        if computer_action == \"Paper\":\n",
    "            user_points += 1\n",
    "            print(\"Scissors cuts paper! You win!\")\n",
    "        else:\n",
    "            computer_points += 1\n",
    "            print(\"Rock smashes scissors! You lose.\")\n",
    "    else:\n",
    "        print('Player should play fairly')\n",
    "for i in range (3):\n",
    "    Rock_Paper_Scissors(input(\"Enter a choice (Rock, Paper, Scissors): \"))     \n",
    "    \n",
    "print() \n",
    "\n",
    "def who_won():\n",
    "    \"\"\"the function to know who is winner \"\"\"\n",
    "    global user_points\n",
    "    global computer_points\n",
    "    if computer_points > user_points:\n",
    "        print(f\"{user_points}:{computer_points} You lose.\")\n",
    "    elif computer_points < user_points:\n",
    "        print(f\"{user_points}:{computer_points} You win!\")\n",
    "    elif computer_points == 0 and user_points == 0:\n",
    "        print(\"You're cheating in all rounds!!!\")\n",
    "    else:\n",
    "        print(f\"{user_points}:{computer_points} It's a tie!.\")\n",
    "\n",
    "who_won()        \n",
    "    \n",
    " "
   ]
  }
 ],
 "metadata": {
  "kernelspec": {
   "display_name": "Python 3 (ipykernel)",
   "language": "python",
   "name": "python3"
  },
  "language_info": {
   "codemirror_mode": {
    "name": "ipython",
    "version": 3
   },
   "file_extension": ".py",
   "mimetype": "text/x-python",
   "name": "python",
   "nbconvert_exporter": "python",
   "pygments_lexer": "ipython3",
   "version": "3.9.12"
  }
 },
 "nbformat": 4,
 "nbformat_minor": 5
}
