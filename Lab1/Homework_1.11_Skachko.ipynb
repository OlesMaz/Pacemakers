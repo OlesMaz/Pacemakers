{
 "cells": [
  {
   "cell_type": "markdown",
   "id": "fc7f5268",
   "metadata": {},
   "source": [
    "##  Question 11"
   ]
  },
  {
   "cell_type": "markdown",
   "id": "f7d5e811",
   "metadata": {},
   "source": [
    "Write a program that asks the user to enter a power. Then find the last two digits of 2 raised to that power."
   ]
  },
  {
   "cell_type": "markdown",
   "id": "1fd9db4e",
   "metadata": {},
   "source": [
    "### Answer"
   ]
  },
  {
   "cell_type": "code",
   "execution_count": 5,
   "id": "ac2bba58",
   "metadata": {},
   "outputs": [
    {
     "name": "stdout",
     "output_type": "stream",
     "text": [
      "Enter power: 65\n",
      "2 raised to 65 power = 36893488147419103232\n",
      "Pre-last digit = 3\n",
      "Last digit = 2\n"
     ]
    }
   ],
   "source": [
    "def exponentiation_to_x(power):\n",
    "    ''' the function that raises 2 to positive integer power  '''\n",
    "    ans = 2**power \n",
    "    if ans >= 10 : \n",
    "        #for at least two-digit numbers\n",
    "        pre_last, last_digit  = str(ans)[-2:]\n",
    "        print(f'2 raised to {power} power = {ans}\\nPre-last digit = {pre_last}\\nLast digit = {last_digit}')\n",
    "    elif 0 <= ans < 10 and power >=0 :\n",
    "        #for one-digit numbers\n",
    "        last_digit = ans\n",
    "        print(f'2 raised to {power} power = {ans}\\nLast digit = {last_digit}')\n",
    "    else:\n",
    "        print('Power must be positive integer')\n",
    "\n",
    "        \n",
    "exponentiation_to_x(int(input(\"Enter power: \")))"
   ]
  }
 ],
 "metadata": {
  "kernelspec": {
   "display_name": "Python 3 (ipykernel)",
   "language": "python",
   "name": "python3"
  },
  "language_info": {
   "codemirror_mode": {
    "name": "ipython",
    "version": 3
   },
   "file_extension": ".py",
   "mimetype": "text/x-python",
   "name": "python",
   "nbconvert_exporter": "python",
   "pygments_lexer": "ipython3",
   "version": "3.9.12"
  }
 },
 "nbformat": 4,
 "nbformat_minor": 5
}
