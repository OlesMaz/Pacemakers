{
 "cells": [
  {
   "cell_type": "markdown",
   "id": "1469555d",
   "metadata": {},
   "source": [
    "##  Question 14"
   ]
  },
  {
   "cell_type": "markdown",
   "id": "73a97ead",
   "metadata": {},
   "source": [
    "Write a program that lets the user play Rock-Paper-Scissors against the computer. There should be three rounds, and after those three rounds, your program should print out who won and lost or that there is a tie."
   ]
  },
  {
   "cell_type": "markdown",
   "id": "96b5d4f0",
   "metadata": {},
   "source": [
    "### Answer"
   ]
  },
  {
   "cell_type": "code",
   "execution_count": 2,
   "id": "b87eb2e1",
   "metadata": {},
   "outputs": [
    {
     "name": "stdout",
     "output_type": "stream",
     "text": [
      "Enter a choice (Rock, Paper, Scissors): Rock\n",
      "\n",
      "You chose Rock, computer chose Scissors.\n",
      "\n",
      "Rock smashes scissors! You win!\n",
      "Enter a choice (Rock, Paper, Scissors): Paper\n",
      "\n",
      "You chose Paper, computer chose Paper.\n",
      "\n",
      "Both players selected Paper. It's a tie!\n",
      "Enter a choice (Rock, Paper, Scissors): Scissors\n",
      "\n",
      "You chose Scissors, computer chose Rock.\n",
      "\n",
      "Rock smashes scissors! You lose.\n",
      "\n",
      "2:2 It's a tie!.\n"
     ]
    }
   ],
   "source": [
    "import random\n",
    "\n",
    "user_points = 0\n",
    "computer_points = 0\n",
    "\n",
    "def Rock_Paper_Scissors(user_action):\n",
    "    \"\"\"Create the function with: 2 global counters, list of possible actions and check all devlopments of game\"\"\"\n",
    "    global user_points\n",
    "    global computer_points\n",
    "    possible_actions = [\"Rock\", \"Paper\", \"Scissors\"]\n",
    "    computer_action = random.choice(possible_actions)\n",
    "    print(f\"\\nYou chose {user_action}, computer chose {computer_action}.\\n\")\n",
    "\n",
    "    if user_action == computer_action:\n",
    "        user_points += 1\n",
    "        computer_points += 1 \n",
    "        print(f\"Both players selected {computer_action}. It's a tie!\")\n",
    "    elif user_action == \"Rock\":\n",
    "        if computer_action == \"Scissors\":\n",
    "            user_points += 1\n",
    "            print(\"Rock smashes scissors! You win!\")\n",
    "        else:\n",
    "            computer_points += 1\n",
    "            print(\"Paper covers rock! You lose.\")\n",
    "    elif user_action == \"Paper\":\n",
    "        if computer_action == \"Rock\":\n",
    "            user_points += 1\n",
    "            print(\"Paper covers rock! You win!\")\n",
    "        else:\n",
    "            computer_points += 1\n",
    "            print(\"Scissors cuts paper! You lose.\")\n",
    "    elif user_action == \"Scissors\":\n",
    "        if computer_action == \"Paper\":\n",
    "            user_points += 1\n",
    "            print(\"Scissors cuts paper! You win!\")\n",
    "        else:\n",
    "            computer_points += 1\n",
    "            print(\"Rock smashes scissors! You lose.\")\n",
    "    else:\n",
    "        print('Player should play fairly')\n",
    "for i in range (3):\n",
    "    Rock_Paper_Scissors(input(\"Enter a choice (Rock, Paper, Scissors): \"))     \n",
    "    \n",
    "print() \n",
    "\n",
    "def who_won():\n",
    "    \"\"\"the function to know who is winner \"\"\"\n",
    "    global user_points\n",
    "    global computer_points\n",
    "    if computer_points > user_points:\n",
    "        print(f\"{user_points}:{computer_points} You lose.\")\n",
    "    elif computer_points < user_points:\n",
    "        print(f\"{user_points}:{computer_points} You win!\")\n",
    "    elif computer_points == 0 and user_points == 0:\n",
    "        print(\"You're cheating in all rounds!!!\")\n",
    "    else:\n",
    "        print(f\"{user_points}:{computer_points} It's a tie!.\")\n",
    "\n",
    "who_won()"
   ]
  }
 ],
 "metadata": {
  "kernelspec": {
   "display_name": "Python 3 (ipykernel)",
   "language": "python",
   "name": "python3"
  },
  "language_info": {
   "codemirror_mode": {
    "name": "ipython",
    "version": 3
   },
   "file_extension": ".py",
   "mimetype": "text/x-python",
   "name": "python",
   "nbconvert_exporter": "python",
   "pygments_lexer": "ipython3",
   "version": "3.9.12"
  }
 },
 "nbformat": 4,
 "nbformat_minor": 5
}
