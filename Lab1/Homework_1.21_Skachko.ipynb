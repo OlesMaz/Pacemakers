{
 "cells": [
  {
   "cell_type": "markdown",
   "id": "98967b66",
   "metadata": {},
   "source": [
    "## Question 21"
   ]
  },
  {
   "cell_type": "markdown",
   "id": "2274ae8d",
   "metadata": {},
   "source": [
    "Calculate number of distinct characters in a string using a for loop."
   ]
  },
  {
   "cell_type": "markdown",
   "id": "0bab76a2",
   "metadata": {},
   "source": [
    "## Answer"
   ]
  },
  {
   "cell_type": "code",
   "execution_count": 13,
   "id": "05bc0081",
   "metadata": {
    "scrolled": true
   },
   "outputs": [
    {
     "name": "stdout",
     "output_type": "stream",
     "text": [
      "Enter something: I'm lighter when I'm lower, I'm higher when I'm heavy, oh\n",
      "Number of distinct characters = 18 \n",
      "list of distinct characters: ['I', \"'\", 'm', ' ', 'l', 'i', 'g', 'h', 't', 'e', 'r', 'w', 'n', 'o', ',', 'a', 'v', 'y']\n"
     ]
    }
   ],
   "source": [
    "def count_unique(x):\n",
    "    #function to calculate distinct characters in a string\n",
    "    unique = []\n",
    "    for char in x:\n",
    "        if char not in unique :\n",
    "            unique.append(char)\n",
    "    print(f'Number of distinct characters = {len(unique)} \\nlist of distinct characters: {unique}')\n",
    "\n",
    "count_unique(input(\"Enter something: \"))    \n",
    "    "
   ]
  }
 ],
 "metadata": {
  "kernelspec": {
   "display_name": "Python 3 (ipykernel)",
   "language": "python",
   "name": "python3"
  },
  "language_info": {
   "codemirror_mode": {
    "name": "ipython",
    "version": 3
   },
   "file_extension": ".py",
   "mimetype": "text/x-python",
   "name": "python",
   "nbconvert_exporter": "python",
   "pygments_lexer": "ipython3",
   "version": "3.9.12"
  }
 },
 "nbformat": 4,
 "nbformat_minor": 5
}
