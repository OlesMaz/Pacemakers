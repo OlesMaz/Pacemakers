{
 "cells": [
  {
   "cell_type": "markdown",
   "id": "7deb40b9",
   "metadata": {},
   "source": [
    "##  Question 5"
   ]
  },
  {
   "cell_type": "markdown",
   "id": "36e23563",
   "metadata": {},
   "source": [
    "Write a Python program which accepts the user's first and last name and print them in reverse order with a space between them."
   ]
  },
  {
   "cell_type": "markdown",
   "id": "c1b63a5d",
   "metadata": {},
   "source": [
    "### Answer"
   ]
  },
  {
   "cell_type": "code",
   "execution_count": 7,
   "id": "6b20ccc3",
   "metadata": {},
   "outputs": [
    {
     "name": "stdout",
     "output_type": "stream",
     "text": [
      "Print your first name: Oleksii\n",
      "Print your last name: Skachko\n",
      "In reverse order: Okhcaks Iiskelo\n"
     ]
    }
   ],
   "source": [
    "first_name = input(\"Print your first name: \")\n",
    "last_name = input(\"Print your last name: \") \n",
    "print(f'In reverse order: {last_name[::-1].capitalize()} {first_name[::-1].capitalize()}')"
   ]
  },
  {
   "cell_type": "code",
   "execution_count": 1,
   "id": "0ff07a06",
   "metadata": {},
   "outputs": [
    {
     "name": "stdout",
     "output_type": "stream",
     "text": [
      "Print your first and last name (with space between them): Oleksii Skachko\n",
      "In reverse order: Okhcaks Iiskelo\n"
     ]
    }
   ],
   "source": [
    "first_and_last_name = input(\"Print your first and last name (with space between them): \")\n",
    "l = first_and_last_name.split()\n",
    "first_name = l[0]\n",
    "last_name = l[1]\n",
    "print(f'In reverse order: {last_name[::-1].capitalize()} {first_name[::-1].capitalize()}')"
   ]
  }
 ],
 "metadata": {
  "kernelspec": {
   "display_name": "Python 3 (ipykernel)",
   "language": "python",
   "name": "python3"
  },
  "language_info": {
   "codemirror_mode": {
    "name": "ipython",
    "version": 3
   },
   "file_extension": ".py",
   "mimetype": "text/x-python",
   "name": "python",
   "nbconvert_exporter": "python",
   "pygments_lexer": "ipython3",
   "version": "3.9.12"
  }
 },
 "nbformat": 4,
 "nbformat_minor": 5
}
