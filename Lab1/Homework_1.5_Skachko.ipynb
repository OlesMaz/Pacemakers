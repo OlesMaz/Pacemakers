{
 "cells": [
  {
   "cell_type": "markdown",
   "id": "7deb40b9",
   "metadata": {},
   "source": [
    "##  Question 5"
   ]
  },
  {
   "cell_type": "markdown",
   "id": "36e23563",
   "metadata": {},
   "source": [
    "Write a Python program which accepts the user's first and last name and print them in reverse order with a space between them."
   ]
  },
  {
   "cell_type": "markdown",
   "id": "c1b63a5d",
   "metadata": {},
   "source": [
    "### Answer"
   ]
  },
  {
   "cell_type": "code",
   "execution_count": 2,
   "id": "6b20ccc3",
   "metadata": {},
   "outputs": [
    {
     "name": "stdout",
     "output_type": "stream",
     "text": [
      "Print your first and last name (with space between them): Oleksii Skachko\n",
      "In reverse order: Okhcaks Iiskelo\n"
     ]
    }
   ],
   "source": [
    "def reverser(first_and_last_name):\n",
    "    \"\"\"function accepts the user's first and last name and print them in reverse order with a space between them\"\"\"\n",
    "    first_name, last_name = first_and_last_name.split()\n",
    "    print(f'In reverse order: {last_name[::-1].capitalize()} {first_name[::-1].capitalize()}')\n",
    "\n",
    "reverser(input(\"Enter your first and last name (with space between them): \"))    "
   ]
  },
  {
   "cell_type": "code",
   "execution_count": 3,
   "id": "0ff07a06",
   "metadata": {},
   "outputs": [
    {
     "name": "stdout",
     "output_type": "stream",
     "text": [
      "Print your first and last name (with space between them): Oleksii Skachko\n",
      "In reverse order: Skachko Oleksii\n"
     ]
    }
   ],
   "source": [
    "def reverser(first_and_last_name):\n",
    "    \"\"\"function accepts the user's first and last name and print them in reverse order with a space between them\"\"\"\n",
    "    first_name, last_name = first_and_last_name.split()\n",
    "    print(f'In reverse order: {last_name} {first_name}')\n",
    "\n",
    "reverser(input(\"Enter your first and last name (with space between them): \"))    "
   ]
  }
 ],
 "metadata": {
  "kernelspec": {
   "display_name": "Python 3 (ipykernel)",
   "language": "python",
   "name": "python3"
  },
  "language_info": {
   "codemirror_mode": {
    "name": "ipython",
    "version": 3
   },
   "file_extension": ".py",
   "mimetype": "text/x-python",
   "name": "python",
   "nbconvert_exporter": "python",
   "pygments_lexer": "ipython3",
   "version": "3.9.12"
  }
 },
 "nbformat": 4,
 "nbformat_minor": 5
}
