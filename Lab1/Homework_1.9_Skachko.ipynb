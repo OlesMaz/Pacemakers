{
 "cells": [
  {
   "cell_type": "markdown",
   "id": "046e6b5d",
   "metadata": {},
   "source": [
    "##  Question 9"
   ]
  },
  {
   "cell_type": "markdown",
   "id": "2be8413c",
   "metadata": {},
   "source": [
    "Write a program that asks the user to enter an angle between -180° and 180°. Using an expression with the modulo operator, convert the angle to its equivalent between 0° and 360°."
   ]
  },
  {
   "cell_type": "markdown",
   "id": "070683b5",
   "metadata": {},
   "source": [
    "### Answer"
   ]
  },
  {
   "cell_type": "code",
   "execution_count": 2,
   "id": "c75bfe8c",
   "metadata": {},
   "outputs": [
    {
     "name": "stdout",
     "output_type": "stream",
     "text": [
      "Enter an angle between -180° and 180°: -36.5\n",
      "Equivalent between 0° and 360° = 323.5°\n"
     ]
    }
   ],
   "source": [
    "print(f\"Equivalent between 0° and 360° = {(float(input('Enter an angle between -180° and 180°: ')))%360}°\")"
   ]
  }
 ],
 "metadata": {
  "kernelspec": {
   "display_name": "Python 3 (ipykernel)",
   "language": "python",
   "name": "python3"
  },
  "language_info": {
   "codemirror_mode": {
    "name": "ipython",
    "version": 3
   },
   "file_extension": ".py",
   "mimetype": "text/x-python",
   "name": "python",
   "nbconvert_exporter": "python",
   "pygments_lexer": "ipython3",
   "version": "3.9.12"
  }
 },
 "nbformat": 4,
 "nbformat_minor": 5
}
