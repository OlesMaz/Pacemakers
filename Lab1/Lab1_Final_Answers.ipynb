{
 "cells": [
  {
   "cell_type": "markdown",
   "id": "6cc93a91",
   "metadata": {},
   "source": [
    "# Set up\n",
    "Install Anaconda Python (version 3.7 or later)"
   ]
  },
  {
   "cell_type": "code",
   "execution_count": 1,
   "id": "bc7c0a7c",
   "metadata": {},
   "outputs": [
    {
     "name": "stdout",
     "output_type": "stream",
     "text": [
      "sys.version_info(major=3, minor=9, micro=7, releaselevel='final', serial=0)\n",
      "version 3.9.7\n"
     ]
    }
   ],
   "source": [
    "# Installation - anaconda python:\n",
    "#     - https://www.anaconda.com/products/individual\n",
    "# After installation you can always add modules.\n",
    "# Modules can be added from different channels.\n",
    "#   conda info\n",
    "#   conda config --add channels anaconda\n",
    "#   conda config --add channels conda-forge\n",
    "# You can do periodic updates using these commands:\n",
    "#   conda update conda\n",
    "#   conda update anaconda\n",
    "# -------------------------------------------------------\n",
    "import sys\n",
    "vv = sys.version_info\n",
    "print(vv)\n",
    "print('version ' + '.'.join([str(x) for x in vv[0:3]]))"
   ]
  },
  {
   "cell_type": "markdown",
   "id": "06c27760",
   "metadata": {},
   "source": [
    "##  Question 1"
   ]
  },
  {
   "cell_type": "markdown",
   "id": "82c39cd7",
   "metadata": {},
   "source": [
    "Write a print statement to print the mixed fraction 3 5/8 as a floating point number and as an integer."
   ]
  },
  {
   "cell_type": "markdown",
   "id": "3d1206e0",
   "metadata": {},
   "source": [
    "### Answer 1"
   ]
  },
  {
   "cell_type": "code",
   "execution_count": 1,
   "id": "54dde7f0",
   "metadata": {},
   "outputs": [
    {
     "name": "stdout",
     "output_type": "stream",
     "text": [
      "3 5/8 is a 3.625 = 3 + 0.625\n"
     ]
    }
   ],
   "source": [
    "print(f\"3 5/8 is a {3+5/8} = {3} + {5/8}\")"
   ]
  },
  {
   "cell_type": "markdown",
   "id": "f22dd569",
   "metadata": {},
   "source": [
    "##  Question 2"
   ]
  },
  {
   "cell_type": "markdown",
   "id": "dca44c62",
   "metadata": {},
   "source": [
    "**Convert Between °C and °F.** Convert temperatures from one system to another.\n",
    "- Create a print statement to convert 18.5° C to °F. \n",
    "- Create a print statement to convert -4° F to °C."
   ]
  },
  {
   "cell_type": "markdown",
   "id": "00b6f59b",
   "metadata": {},
   "source": [
    "### Answer"
   ]
  },
  {
   "cell_type": "code",
   "execution_count": 2,
   "id": "f8f1c8e0",
   "metadata": {},
   "outputs": [
    {
     "name": "stdout",
     "output_type": "stream",
     "text": [
      "18.5 °C = 65.3 °F\n",
      "-4 °F = -20.0 °C\n"
     ]
    }
   ],
   "source": [
    "def convert(temp1, convert_to=\"F\"):\n",
    "    \"\"\"Function converts between °C and °F. \"convert_to\" argument accepts temprature unit you want to convert to (C or F).\"\"\"\n",
    "    if convert_to == \"F\":\n",
    "        return temp1 * 1.8 + 32\n",
    "    return (temp1 - 32) / 1.8\n",
    "\n",
    "print(f\"18.5 °C = {round(convert(18.5, 'F'),1)} °F\")\n",
    "print(f\"-4 °F = {round(convert(-4, 'C'),1)} °C\")"
   ]
  },
  {
   "cell_type": "markdown",
   "id": "72f7c2f1",
   "metadata": {},
   "source": [
    "##  Question 3"
   ]
  },
  {
   "cell_type": "markdown",
   "id": "d67df8fe",
   "metadata": {},
   "source": [
    "Write a function that asks the user to enter a list of integers. Do the following:\n",
    "\n",
    "- Print the last item in the list.\n",
    "- Print the list in reverse order.\n",
    "- Print Yes if the list contains a 5 and No otherwise.\n",
    "- Print the number of fives in the list.\n",
    "- Remove the first and last items from the list, sort the remaining items, and print the result.\n",
    "- Print how many integers in the list are less than 5."
   ]
  },
  {
   "cell_type": "markdown",
   "id": "abd82ff9",
   "metadata": {},
   "source": [
    "### Answer"
   ]
  },
  {
   "cell_type": "code",
   "execution_count": 51,
   "id": "2c4ca441",
   "metadata": {},
   "outputs": [
    {
     "name": "stdout",
     "output_type": "stream",
     "text": [
      "Enter a list of integers(with a coma between them): 1, 2, 5, 4, 4, 5, 5, 6, 9, 0\n",
      "The last item in the list is: 0\n",
      "List in reverse order: [0, 9, 6, 5, 5, 4, 4, 5, 2, 1]\n",
      "Is 5 in the list?  Yes\n",
      "How many 5's are in the list? 3\n",
      "Sorted list without the first and the last element: [2, 4, 4, 5, 5, 5, 6, 9]\n",
      "How many elements are less than 5? 5\n"
     ]
    }
   ],
   "source": [
    "def inp_list():\n",
    "    \"\"\"Function helps to input a list of integers\"\"\"\n",
    "    return list(map(int, input(\"Enter a list of integers(with a coma between them): \").split(\",\")))\n",
    "\n",
    "\n",
    "lst = inp_list()\n",
    "print(f\"The last item in the list is: {lst[-1]}\")\n",
    "lst.reverse()\n",
    "print(f\"List in reverse order: {lst}\")\n",
    "print(\"Is 5 in the list? \", \"Yes\" if 5 in lst else \"No\")\n",
    "print(f\"How many 5's are in the list? {lst.count(5)}\")\n",
    "lst_without = lst[:]\n",
    "lst_without.pop(0)\n",
    "lst_without.pop(-1)\n",
    "lst_without.sort()\n",
    "print(f\"Sorted list without the first and the last element: {lst_without}\")\n",
    "print(f\"How many elements are less than 5? {sum([1 for elem in lst if elem < 5])}\")"
   ]
  },
  {
   "cell_type": "markdown",
   "id": "7f978472",
   "metadata": {},
   "source": [
    "##  Question 4"
   ]
  },
  {
   "cell_type": "markdown",
   "id": "5c774691",
   "metadata": {},
   "source": [
    "Write a Python program which accepts the radius of a circle from the user and compute the area."
   ]
  },
  {
   "cell_type": "markdown",
   "id": "d6d0a52d",
   "metadata": {},
   "source": [
    "### Answer"
   ]
  },
  {
   "cell_type": "code",
   "execution_count": 1,
   "id": "139fe2cf",
   "metadata": {},
   "outputs": [
    {
     "name": "stdout",
     "output_type": "stream",
     "text": [
      "Enter the radius: 2\n",
      "The area is 12.57 square units\n"
     ]
    }
   ],
   "source": [
    "from math import pi\n",
    "def area_of_circle(radius):\n",
    "    \"\"\" accepts the radius of a cirlce \n",
    "    from a user and computes the area\"\"\"\n",
    "    return pi*(radius**2)\n",
    "\n",
    "x = float(input(\"Enter the radius: \"))\n",
    "print(f\"The area is {round(area_of_circle(x), 2)} square units\")"
   ]
  },
  {
   "cell_type": "markdown",
   "id": "7deb40b9",
   "metadata": {},
   "source": [
    "##  Question 5"
   ]
  },
  {
   "cell_type": "markdown",
   "id": "36e23563",
   "metadata": {},
   "source": [
    "Write a Python program which accepts the user's first and last name and print them in reverse order with a space between them."
   ]
  },
  {
   "cell_type": "markdown",
   "id": "c1b63a5d",
   "metadata": {},
   "source": [
    "### Answer 1"
   ]
  },
  {
   "cell_type": "code",
   "execution_count": 7,
   "id": "378bbaf0",
   "metadata": {},
   "outputs": [
    {
     "name": "stdout",
     "output_type": "stream",
     "text": [
      "Enter your first and last name (with a space between them): Oleksii Skachko\n",
      "In reverse order: Okhcaks Iiskelo\n"
     ]
    }
   ],
   "source": [
    "def reverser(first_and_last_name):\n",
    "    \"\"\"function accepts the user's first and last name and print them in reverse order with a space between them\"\"\"\n",
    "    first_name, last_name = first_and_last_name.split()\n",
    "    print(f'In reverse order: {last_name[::-1].capitalize()} {first_name[::-1].capitalize()}')\n",
    "\n",
    "reverser(input(\"Enter your first and last name (with a space between them): \"))    "
   ]
  },
  {
   "cell_type": "markdown",
   "id": "96636e60",
   "metadata": {},
   "source": [
    "### Answer 2"
   ]
  },
  {
   "cell_type": "code",
   "execution_count": 8,
   "id": "67cf03eb",
   "metadata": {},
   "outputs": [
    {
     "name": "stdout",
     "output_type": "stream",
     "text": [
      "Enter your first and last name (with space between them): Oleksii Skachko\n",
      "In reverse order: Skachko Oleksii\n"
     ]
    }
   ],
   "source": [
    "def reverser(first_and_last_name):\n",
    "    \"\"\"function accepts the user's first and last name and print them in reverse order with a space between them\"\"\"\n",
    "    first_name, last_name = first_and_last_name.split()\n",
    "    print(f'In reverse order: {last_name} {first_name}')\n",
    "\n",
    "reverser(input(\"Enter your first and last name (with space between them): \"))    "
   ]
  },
  {
   "cell_type": "markdown",
   "id": "dae428e7",
   "metadata": {},
   "source": [
    "##  Question 6"
   ]
  },
  {
   "cell_type": "markdown",
   "id": "08201c2e",
   "metadata": {},
   "source": [
    "Write a Python program that accepts an integer (n) and computes the value of n+nn+nnn"
   ]
  },
  {
   "cell_type": "markdown",
   "id": "ed4f8b37",
   "metadata": {},
   "source": [
    "### Answer"
   ]
  },
  {
   "cell_type": "code",
   "execution_count": 12,
   "id": "65d4a29e",
   "metadata": {},
   "outputs": [
    {
     "name": "stdout",
     "output_type": "stream",
     "text": [
      "Enter an integer(n): 7\n",
      "The value is 399\n"
     ]
    }
   ],
   "source": [
    "def value(n):   \n",
    "    \"\"\"\" accepts an integer(n) and returns the value of n+nn+nnn \"\"\"\n",
    "    return n + (n*n) + (n*n*n)\n",
    "\n",
    "x = int(input(\"Enter an integer(n): \"))\n",
    "print(f\"The value is {value(x)}\")"
   ]
  },
  {
   "cell_type": "markdown",
   "id": "bec8d306",
   "metadata": {},
   "source": [
    "##  Question 7"
   ]
  },
  {
   "cell_type": "markdown",
   "id": "0b82ae59",
   "metadata": {},
   "source": [
    "A lot of cell phones have tip calculators. Write one. Ask the user for the price of the meal and the percent tip they want to leave. Then print both the tip amount and the total bill with the tip included."
   ]
  },
  {
   "cell_type": "markdown",
   "id": "855e9ada",
   "metadata": {},
   "source": [
    "### Answer"
   ]
  },
  {
   "cell_type": "code",
   "execution_count": 26,
   "id": "8312cc01",
   "metadata": {},
   "outputs": [
    {
     "name": "stdout",
     "output_type": "stream",
     "text": [
      "Enter the price of the meal: 400\n",
      "Enter the percent tip you want to leave: 20\n",
      "The tip amount and the total bill with the tip included: 80.0$ tip, 480.0$ total bill\n"
     ]
    }
   ],
   "source": [
    "def tip_calculator(price_meal, percent_tip):\n",
    "    \"\"\"\" asks a user the price of the meal and the percent tip, returns a tip amount \"\"\"\n",
    "    return (price_meal * percent_tip)/100\n",
    "\n",
    "price = float(input(\"Enter the price of the meal: \"))\n",
    "tip_perc = float(input(\"Enter the percent tip you want to leave: \"))\n",
    "print(f\"The tip amount and the total bill with the tip included:\\\n",
    " {tip_calculator(price, tip_perc)}$ tip, {tip_calculator(price, tip_perc) + price}$ total bill\")  "
   ]
  },
  {
   "cell_type": "markdown",
   "id": "782315b7",
   "metadata": {},
   "source": [
    "##  Question 8"
   ]
  },
  {
   "cell_type": "markdown",
   "id": "be5a74b1",
   "metadata": {},
   "source": [
    "Write a program that asks the user to enter three numbers: the day of birth, the month of birth and the year of birth (use three separate input statements). Print out the total number of days from birth."
   ]
  },
  {
   "cell_type": "markdown",
   "id": "ffc357e6",
   "metadata": {},
   "source": [
    "### Answer"
   ]
  },
  {
   "cell_type": "code",
   "execution_count": 27,
   "id": "397ed44a",
   "metadata": {},
   "outputs": [
    {
     "name": "stdout",
     "output_type": "stream",
     "text": [
      "Input day of your birth: 30\n",
      "Input month of your birth: 07\n",
      "Input year of your birth: 2004\n",
      "6627 days have passed since your birth!\n"
     ]
    }
   ],
   "source": [
    "from datetime import date\n",
    "\n",
    "\n",
    "def days_from_birth(year, month, day):\n",
    "    \"\"\"Function calculates the number of days from your birth till today\"\"\"\n",
    "    return (date.today() - date(year, month, day)).days\n",
    "\n",
    "\n",
    "day = int(input('Input day of your birth: '))\n",
    "month = int(input('Input month of your birth: '))\n",
    "year = int(input('Input year of your birth: '))\n",
    "\n",
    "print(f\"{days_from_birth(year, month, day)} days have passed since your birth!\")"
   ]
  },
  {
   "cell_type": "markdown",
   "id": "046e6b5d",
   "metadata": {},
   "source": [
    "##  Question 9"
   ]
  },
  {
   "cell_type": "markdown",
   "id": "2be8413c",
   "metadata": {},
   "source": [
    "Write a program that asks the user to enter an angle between -180° and 180°. Using an expression with the modulo operator, convert the angle to its equivalent between 0° and 360°."
   ]
  },
  {
   "cell_type": "markdown",
   "id": "070683b5",
   "metadata": {},
   "source": [
    "### Answer"
   ]
  },
  {
   "cell_type": "code",
   "execution_count": 28,
   "id": "8f55e0f0",
   "metadata": {},
   "outputs": [
    {
     "name": "stdout",
     "output_type": "stream",
     "text": [
      "Enter an angle between -180° and 180°: -36.5\n",
      "Equivalent between 0° and 360° = 323.5°\n"
     ]
    }
   ],
   "source": [
    "print(f\"Equivalent between 0° and 360° = {(float(input('Enter an angle between -180° and 180°: ')))%360}°\")"
   ]
  },
  {
   "cell_type": "markdown",
   "id": "c9c8af36",
   "metadata": {},
   "source": [
    "##  Question 10"
   ]
  },
  {
   "cell_type": "markdown",
   "id": "b3189cf2",
   "metadata": {},
   "source": [
    "Write a program that generates a random decimal number between 1 and 10 with two decimal places of accuracy."
   ]
  },
  {
   "cell_type": "markdown",
   "id": "0bf49552",
   "metadata": {},
   "source": [
    "### Answer"
   ]
  },
  {
   "cell_type": "code",
   "execution_count": 34,
   "id": "2c41b6d3",
   "metadata": {},
   "outputs": [
    {
     "name": "stdout",
     "output_type": "stream",
     "text": [
      "The random number between 1 and 10 is : 7.52\n"
     ]
    }
   ],
   "source": [
    "from random import uniform \n",
    "print(f\"The random number between 1 and 10 is : {round(uniform(1, 10), 2)}\")"
   ]
  },
  {
   "cell_type": "markdown",
   "id": "fc7f5268",
   "metadata": {},
   "source": [
    "##  Question 11"
   ]
  },
  {
   "cell_type": "markdown",
   "id": "f7d5e811",
   "metadata": {},
   "source": [
    "Write a program that asks the user to enter a power. Then find the last two digits of 2 raised to that power."
   ]
  },
  {
   "cell_type": "markdown",
   "id": "6f9266d8",
   "metadata": {},
   "source": [
    "### Answer"
   ]
  },
  {
   "cell_type": "code",
   "execution_count": 35,
   "id": "79f07e1e",
   "metadata": {},
   "outputs": [
    {
     "name": "stdout",
     "output_type": "stream",
     "text": [
      "Enter power: 5\n",
      "2 raised to 5 power = 32\n",
      "Pre-last digit = 3\n",
      "Last digit = 2\n"
     ]
    }
   ],
   "source": [
    "def exponentiation_to_x(power):\n",
    "    ''' the function that raises 2 to positive integer power  '''\n",
    "    ans = 2**power \n",
    "    if ans >= 10 : \n",
    "        #for at least two-digit numbers\n",
    "        pre_last, last_digit  = str(ans)[-2:]\n",
    "        print(f'2 raised to {power} power = {ans}\\nPre-last digit = {pre_last}\\nLast digit = {last_digit}')\n",
    "    elif 0 <= ans < 10 and power >=0 :\n",
    "        #for one-digit numbers\n",
    "        last_digit = ans\n",
    "        print(f'2 raised to {power} power = {ans}\\nLast digit = {last_digit}')\n",
    "    else:\n",
    "        print('Power must be positive integer')\n",
    "\n",
    "        \n",
    "exponentiation_to_x(int(input(\"Enter power: \")))"
   ]
  },
  {
   "cell_type": "markdown",
   "id": "0e8bf2ed",
   "metadata": {},
   "source": [
    "##  Question 12"
   ]
  },
  {
   "cell_type": "markdown",
   "id": "a648dc6a",
   "metadata": {},
   "source": [
    "Write a program that asks the user how many credits they have taken. If they have taken 23 or less, print that the student is a freshman. If they have taken between 24 and 53, print that they are a sophomore. The range for juniors is 54 to 83, and for seniors it is 84 and over."
   ]
  },
  {
   "cell_type": "markdown",
   "id": "d9428a56",
   "metadata": {},
   "source": [
    "### Answer"
   ]
  },
  {
   "cell_type": "code",
   "execution_count": 36,
   "id": "76aabed9",
   "metadata": {},
   "outputs": [
    {
     "name": "stdout",
     "output_type": "stream",
     "text": [
      "How many credits have you taken? 56\n",
      "Student is junior\n"
     ]
    }
   ],
   "source": [
    "def student_credits(credits):\n",
    "    \n",
    "    \"\"\"\" asks the user how many credits they have taken \n",
    "    and sort them for: freshman, sophomore, juniors and seniors \"\"\"\n",
    "  \n",
    "    if credits < 0:\n",
    "        print(\"It must be a positive number\")\n",
    "    elif credits <= 23:\n",
    "        print(\"Student is a freshman\")\n",
    "    elif credits <= 53:\n",
    "        print(\"Student is sophomore\")\n",
    "    elif credits <= 83:\n",
    "        print(\"Student is junior\")\n",
    "    elif credits >= 84:\n",
    "        print(\"Student is senior\")\n",
    "    else:\n",
    "        print(\"It's not a number\")\n",
    "        \n",
    "x = int(input(\"How many credits have you taken? \"))\n",
    "student_credits(x)"
   ]
  },
  {
   "cell_type": "markdown",
   "id": "d055fd4b",
   "metadata": {},
   "source": [
    "##  Question 13"
   ]
  },
  {
   "cell_type": "markdown",
   "id": "c79ae3aa",
   "metadata": {},
   "source": [
    "Write a program that asks the user to enter a length in centimeters. If the user enters a negative length, the program should tell the user that the entry is invalid. Otherwise, the program should convert the length to inches and print out the result. There are 2.54 centimeters in an inch."
   ]
  },
  {
   "cell_type": "markdown",
   "id": "fb5168e7",
   "metadata": {},
   "source": [
    "### Answer"
   ]
  },
  {
   "cell_type": "code",
   "execution_count": 38,
   "id": "9c33ec19",
   "metadata": {},
   "outputs": [
    {
     "name": "stdout",
     "output_type": "stream",
     "text": [
      "Enter length in cm: 2.54\n",
      "Length in inches: 1.0\n"
     ]
    }
   ],
   "source": [
    "def centimeters_to_inches(length):\n",
    "    '''A function that converts centimeters to inches'''\n",
    "    if length < 0:\n",
    "        return 'invalid entry'\n",
    "    return round(length/2.54, 2)\n",
    "   \n",
    "length = float(input('Enter length in cm: '))\n",
    "centimeters_to_inches(length)\n",
    "print(f\"Length in inches: {round(centimeters_to_inches(length), 2)}\")"
   ]
  },
  {
   "cell_type": "markdown",
   "id": "1469555d",
   "metadata": {},
   "source": [
    "##  Question 14"
   ]
  },
  {
   "cell_type": "markdown",
   "id": "73a97ead",
   "metadata": {},
   "source": [
    "Write a program that lets the user play Rock-Paper-Scissors against the computer. There should be three rounds, and after those three rounds, your program should print out who won and lost or that there is a tie."
   ]
  },
  {
   "cell_type": "markdown",
   "id": "96b5d4f0",
   "metadata": {},
   "source": [
    "### Answer 1"
   ]
  },
  {
   "cell_type": "code",
   "execution_count": 39,
   "id": "9d6e63fc",
   "metadata": {},
   "outputs": [
    {
     "name": "stdout",
     "output_type": "stream",
     "text": [
      "Enter a choice (Rock, Paper, Scissors): Rock\n",
      "\n",
      "You chose Rock, computer chose Rock.\n",
      "\n",
      "Both players selected Rock. It's a tie!\n",
      "Enter a choice (Rock, Paper, Scissors): Paper\n",
      "\n",
      "You chose Paper, computer chose Paper.\n",
      "\n",
      "Both players selected Paper. It's a tie!\n",
      "Enter a choice (Rock, Paper, Scissors): Scissors\n",
      "\n",
      "You chose Scissors, computer chose Rock.\n",
      "\n",
      "Rock smashes scissors! You lose.\n",
      "\n",
      "2:3 You lose.\n"
     ]
    }
   ],
   "source": [
    "import random\n",
    "\n",
    "def Rock_Paper_Scissors(user_action):\n",
    "    \"\"\"Create the function with: 2 global counters, list of possible actions and check all devlopments of game\"\"\"\n",
    "    global user_points\n",
    "    global computer_points\n",
    "    possible_actions = [\"Rock\", \"Paper\", \"Scissors\"]\n",
    "    computer_action = random.choice(possible_actions)\n",
    "    print(f\"\\nYou chose {user_action}, computer chose {computer_action}.\\n\")\n",
    "\n",
    "    if user_action == computer_action:\n",
    "        user_points += 1\n",
    "        computer_points += 1 \n",
    "        print(f\"Both players selected {computer_action}. It's a tie!\")\n",
    "    elif user_action == \"Rock\":\n",
    "        if computer_action == \"Scissors\":\n",
    "            user_points += 1\n",
    "            print(\"Rock smashes scissors! You win!\")\n",
    "        else:\n",
    "            computer_points += 1\n",
    "            print(\"Paper covers rock! You lose.\")\n",
    "    elif user_action == \"Paper\":\n",
    "        if computer_action == \"Rock\":\n",
    "            user_points += 1\n",
    "            print(\"Paper covers rock! You win!\")\n",
    "        else:\n",
    "            computer_points += 1\n",
    "            print(\"Scissors cuts paper! You lose.\")\n",
    "    elif user_action == \"Scissors\":\n",
    "        if computer_action == \"Paper\":\n",
    "            user_points += 1\n",
    "            print(\"Scissors cuts paper! You win!\")\n",
    "        else:\n",
    "            computer_points += 1\n",
    "            print(\"Rock smashes scissors! You lose.\")\n",
    "    else:\n",
    "        print('Player should play fairly')\n",
    "\n",
    "        \n",
    "def who_won():\n",
    "    \"\"\"the function to know who is winner \"\"\"\n",
    "    global user_points\n",
    "    global computer_points\n",
    "    if computer_points > user_points:\n",
    "        print(f\"{user_points}:{computer_points} You lose.\")\n",
    "    elif computer_points < user_points:\n",
    "        print(f\"{user_points}:{computer_points} You win!\")\n",
    "    elif computer_points == 0 and user_points == 0:\n",
    "        print(\"You're cheating in all rounds!!!\")\n",
    "    else:\n",
    "        print(f\"{user_points}:{computer_points} It's a tie!.\")\n",
    "\n",
    "        \n",
    "user_points = 0\n",
    "computer_points = 0\n",
    "        \n",
    "for i in range (3):\n",
    "    Rock_Paper_Scissors(input(\"Enter a choice (Rock, Paper, Scissors): \"))     \n",
    "    \n",
    "print() \n",
    "\n",
    "who_won()"
   ]
  },
  {
   "cell_type": "markdown",
   "id": "f7e6d9fa",
   "metadata": {},
   "source": [
    "### Answer 2"
   ]
  },
  {
   "cell_type": "code",
   "execution_count": 40,
   "id": "87a609c3",
   "metadata": {},
   "outputs": [
    {
     "name": "stdout",
     "output_type": "stream",
     "text": [
      "--------------------Round1--------------------\n",
      "\"Rock\", \"Paper\" or \"Scissors\"?: Rock\n",
      "Computer choice: Scissors\n",
      "Your choice: Rock\n",
      "You win the round!\n",
      "Computer points: 0\n",
      "Your points: 1\n",
      "--------------------Round2--------------------\n",
      "\"Rock\", \"Paper\" or \"Scissors\"?: Paper\n",
      "Computer choice: Rock\n",
      "Your choice: Paper\n",
      "You win the round!\n",
      "Computer points: 0\n",
      "Your points: 2\n",
      "--------------------Round3--------------------\n",
      "\"Rock\", \"Paper\" or \"Scissors\"?: Scissors\n",
      "Computer choice: Rock\n",
      "Your choice: Scissors\n",
      "Computer wins the round!\n",
      "Computer points: 1\n",
      "Your points: 2\n",
      "--------------------Congratulations--------------------\n",
      "You win the game!!!\n",
      "Total: You 2:1 Computer\n"
     ]
    }
   ],
   "source": [
    "from random import randint\n",
    "\n",
    "\n",
    "def play_round(round_number):\n",
    "    \"\"\"Function simulates a round of a \"Rock, Paper, Scissors\" game\"\"\"\n",
    "    global computer_points\n",
    "    global player_points\n",
    "    print(\"-\" * 20 + \"Round\" + str(round_number) + \"-\"*20)\n",
    "    choices = [\"Rock\", \"Paper\", \"Scissors\"]\n",
    "\n",
    "    player = input('\"Rock\", \"Paper\" or \"Scissors\"?: ')\n",
    "    computer = choices[randint(0, 2)]\n",
    "    print(f\"Computer choice: {computer}\\nYour choice: {player}\")\n",
    "\n",
    "    if (choices.index(player) + 1) % 3 == choices.index(computer):\n",
    "        computer_points += 1\n",
    "        print(\"Computer wins the round!\")\n",
    "    elif computer == player:\n",
    "        print(\"It's a draw!\")\n",
    "    else:\n",
    "        player_points += 1\n",
    "        print(\"You win the round!\")\n",
    "\n",
    "    print(f\"Computer points: {computer_points}\")\n",
    "    print(f\"Your points: {player_points}\")\n",
    "\n",
    "\n",
    "computer_points = 0\n",
    "player_points = 0\n",
    "for i in range(3):\n",
    "    play_round(i + 1)\n",
    "print(\"-\"*20 + \"Congratulations\" + \"-\"*20)\n",
    "if computer_points > player_points:\n",
    "    print(\"Computer wins the game!!!\")\n",
    "elif player_points > computer_points:\n",
    "    print(\"You win the game!!!\")\n",
    "else:\n",
    "    print(\"It's a draw after 3 rounds!!!\")\n",
    "print(f\"Total: You {player_points}:{computer_points} Computer\")"
   ]
  },
  {
   "cell_type": "markdown",
   "id": "81480a72",
   "metadata": {},
   "source": [
    "##  Question 15"
   ]
  },
  {
   "cell_type": "markdown",
   "id": "9868bbf3",
   "metadata": {},
   "source": [
    "A store charges $\\$$12 per item if you buy less than 10 items. If you buy between 10 and 99 items, the cost is $\\$$10 per item. If you buy 100 or more items, the cost is $7 per item. Write a program that asks the user how many items they are buying and prints the total cost."
   ]
  },
  {
   "cell_type": "markdown",
   "id": "2bc40308",
   "metadata": {},
   "source": [
    "### Answer"
   ]
  },
  {
   "cell_type": "code",
   "execution_count": 2,
   "id": "d1a4229a",
   "metadata": {},
   "outputs": [
    {
     "name": "stdout",
     "output_type": "stream",
     "text": [
      "Enter the number of items you are buying: 110\n",
      "Total cost: 770$\n"
     ]
    }
   ],
   "source": [
    "def total_cost(number):\n",
    "    '''A function that finds out the total cost of purchases by their number'''\n",
    "    if number < 0:\n",
    "        return 'invalid entry'\n",
    "    elif  0 < number < 10:\n",
    "        return number*12\n",
    "    elif number > 99:\n",
    "        return number*7\n",
    "    return  number*10\n",
    "\n",
    "number = int(input('Enter the number of items you are buying: '))\n",
    "print(f\"Total cost: {total_cost(number)}$\")"
   ]
  },
  {
   "cell_type": "markdown",
   "id": "bf4186d1",
   "metadata": {},
   "source": [
    "##  Question 16"
   ]
  },
  {
   "cell_type": "markdown",
   "id": "d1389cb0",
   "metadata": {},
   "source": [
    "Write a program that removes any repeated items from a list so that each item appears at most once. For instance, the list $[1,1,2,3,4,3,0,0]$ would become $[1,2,3,4,0]$."
   ]
  },
  {
   "cell_type": "markdown",
   "id": "765928be",
   "metadata": {},
   "source": [
    "### Answer 1"
   ]
  },
  {
   "cell_type": "code",
   "execution_count": 43,
   "id": "bb0a3057",
   "metadata": {},
   "outputs": [
    {
     "name": "stdout",
     "output_type": "stream",
     "text": [
      "Without repeated items: [0, 1, 2, 3, 4]\n"
     ]
    }
   ],
   "source": [
    "def remove_repeated_items(lst):\n",
    "    \"\"\"Removes any repeated items from a list\"\"\"\n",
    "    return list(set(lst))\n",
    "\n",
    "example = [1, 1, 2, 3, 4, 3, 0, 0]\n",
    "print(f\"Without repeated items: {remove_repeated_items(example)}\")"
   ]
  },
  {
   "cell_type": "markdown",
   "id": "df45b9ce",
   "metadata": {},
   "source": [
    "### Answer 2"
   ]
  },
  {
   "cell_type": "code",
   "execution_count": 4,
   "id": "b20bed40",
   "metadata": {},
   "outputs": [
    {
     "name": "stdout",
     "output_type": "stream",
     "text": [
      "Without repeated items: [1, 2, 3, 4, 0]\n"
     ]
    }
   ],
   "source": [
    "def remove_repeated_items(lst):\n",
    "    \"\"\"Removes any repeated items from a list\"\"\"\n",
    "    return [lst[i] for i in range(len(lst)) if lst[i] not in lst[:i]]\n",
    "\n",
    "example = [1, 1, 2, 3, 4, 3, 0, 0]\n",
    "print(f\"Without repeated items: {remove_repeated_items(example)}\")"
   ]
  },
  {
   "cell_type": "markdown",
   "id": "e062f922",
   "metadata": {},
   "source": [
    "##  Question 17"
   ]
  },
  {
   "cell_type": "markdown",
   "id": "b6305c6e",
   "metadata": {},
   "source": [
    "Calculate number of business days between two dates using datetime module."
   ]
  },
  {
   "cell_type": "markdown",
   "id": "033bd743",
   "metadata": {},
   "source": [
    "### Answer"
   ]
  },
  {
   "cell_type": "code",
   "execution_count": 44,
   "id": "320afcee",
   "metadata": {},
   "outputs": [
    {
     "name": "stdout",
     "output_type": "stream",
     "text": [
      "Enter the first date (\"yyyy-mm-dd\" format\"): 2022-02-24\n",
      "Enter the second date (\"yyyy-mm-dd\" format\"): 2022-09-22\n",
      "The number of business days between these two dates is: 149\n"
     ]
    }
   ],
   "source": [
    "from datetime import timedelta, datetime\n",
    "\n",
    "def business_days_count(date_1, date_2):\n",
    "    \"\"\"Function counts the number of business days in interval (date_1, date_2)\"\"\"\n",
    "    all_days = [date_1 + timedelta(i + 1) for i in range((date_2 - date_1).days - 1)]\n",
    "    business_days = [day for day in all_days if day.weekday() <= 4]\n",
    "    return len(business_days)\n",
    "\n",
    "date_1 = input('Enter the first date (\"yyyy-mm-dd\" format\"): ')\n",
    "date_2 = input('Enter the second date (\"yyyy-mm-dd\" format\"): ')\n",
    "date_1, date_2 = datetime(*list(map(int, date_1.split(\"-\")))), datetime(*list(map(int, date_2.split(\"-\"))))\n",
    "print(f\"The number of business days between these two dates is: {business_days_count(date_1, date_2)}\")"
   ]
  },
  {
   "cell_type": "markdown",
   "id": "4408a3a9",
   "metadata": {},
   "source": [
    "## Question 18"
   ]
  },
  {
   "cell_type": "markdown",
   "id": "bb4ef2dd",
   "metadata": {},
   "source": [
    "Write a function that reverse the tuple."
   ]
  },
  {
   "cell_type": "markdown",
   "id": "8fdb9709",
   "metadata": {},
   "source": [
    "## Answer"
   ]
  },
  {
   "cell_type": "code",
   "execution_count": 45,
   "id": "bc04b15d",
   "metadata": {},
   "outputs": [
    {
     "name": "stdout",
     "output_type": "stream",
     "text": [
      "Reversed tuple: ('g', 'f', 'e', 'd', 'c', 'b', 'a')\n"
     ]
    }
   ],
   "source": [
    "def reverse_tup(tup):\n",
    "    '''A function that reverse the tuple by slicing'''\n",
    "    return tup[::-1]\n",
    "      \n",
    "tup = ('a','b','c','d','e','f','g')\n",
    "print(f\"Reversed tuple: {reverse_tup(tup)}\")"
   ]
  },
  {
   "cell_type": "markdown",
   "id": "fcc4f206",
   "metadata": {},
   "source": [
    "## Question 19"
   ]
  },
  {
   "cell_type": "markdown",
   "id": "84e09c29",
   "metadata": {},
   "source": [
    "Sort a tuple of tuples by 2nd item. For example, the output for the tuple $(('a', 23),('b', 37),('c', 11), ('d',29))$ should be $(('c', 11), ('a', 23), ('d', 29), ('b', 37))$"
   ]
  },
  {
   "cell_type": "markdown",
   "id": "27ca631f",
   "metadata": {},
   "source": [
    "## Answer"
   ]
  },
  {
   "cell_type": "code",
   "execution_count": 46,
   "id": "24f92d4f",
   "metadata": {},
   "outputs": [
    {
     "name": "stdout",
     "output_type": "stream",
     "text": [
      "(('c', 11), ('a', 23), ('d', 29), ('b', 37))\n"
     ]
    }
   ],
   "source": [
    "def sort_tuple(tup):\n",
    "    \"\"\"Function sorts a tuple of tuples by 2nd item\"\"\"\n",
    "    lst = list(tup)\n",
    "    lst.sort(key = lambda x: x[1])\n",
    "    return tuple(lst)\n",
    "\n",
    "print(sort_tuple(((\"a\", 23), (\"b\", 37), (\"c\", 11), (\"d\", 29))))"
   ]
  },
  {
   "cell_type": "markdown",
   "id": "b683db4e",
   "metadata": {},
   "source": [
    "## Question 20"
   ]
  },
  {
   "cell_type": "markdown",
   "id": "acbd5882",
   "metadata": {},
   "source": [
    "Write a function that removes empty strings from the list of strings."
   ]
  },
  {
   "cell_type": "markdown",
   "id": "581524a9",
   "metadata": {},
   "source": [
    "## Answer"
   ]
  },
  {
   "cell_type": "code",
   "execution_count": 47,
   "id": "8298ea4f",
   "metadata": {},
   "outputs": [
    {
     "name": "stdout",
     "output_type": "stream",
     "text": [
      "List without empty places: ['a', 'b', 'c']\n"
     ]
    }
   ],
   "source": [
    "def remove_empty(str_list):\n",
    "    '''a function that removes empty strings from the list of strings'''\n",
    "    for string in str_list:\n",
    "        if len(string) == 0:\n",
    "            str_list.remove(string)\n",
    "    return str_list\n",
    "    \n",
    "\n",
    "str_list = ['', 'a', 'b', '', 'c']\n",
    "remove_empty(str_list)\n",
    "print(f\"List without empty places: {remove_empty(str_list)}\")"
   ]
  },
  {
   "cell_type": "markdown",
   "id": "31c89874",
   "metadata": {},
   "source": [
    "## Question 21"
   ]
  },
  {
   "cell_type": "markdown",
   "id": "7c677830",
   "metadata": {},
   "source": [
    "Calculate number of distinct characters in a string using a for loop."
   ]
  },
  {
   "cell_type": "markdown",
   "id": "493ca515",
   "metadata": {},
   "source": [
    "## Answer"
   ]
  },
  {
   "cell_type": "code",
   "execution_count": 48,
   "id": "a0f5bcb5",
   "metadata": {},
   "outputs": [
    {
     "name": "stdout",
     "output_type": "stream",
     "text": [
      "Enter a string: hello\n",
      "Number of distinct characters in your string: 4\n"
     ]
    }
   ],
   "source": [
    "def count_unique(x):\n",
    "    \"\"\"function to calculate distinct characters in a string\"\"\"\n",
    "    unique = []\n",
    "    for char in x:\n",
    "        if char not in unique :\n",
    "            unique.append(char)\n",
    "    return len(unique)\n",
    "\n",
    "print(f\"Number of distinct characters in your string: {count_unique(input('Enter a string: '))}\")    "
   ]
  },
  {
   "cell_type": "markdown",
   "id": "141c091b",
   "metadata": {},
   "source": [
    "## Question 22"
   ]
  },
  {
   "cell_type": "markdown",
   "id": "c5c6676a",
   "metadata": {},
   "source": [
    "Write a function called is_sorted that is given a list and returns True if the list is sorted and False otherwise."
   ]
  },
  {
   "cell_type": "markdown",
   "id": "7cbd958d",
   "metadata": {},
   "source": [
    "### Answer"
   ]
  },
  {
   "cell_type": "code",
   "execution_count": 49,
   "id": "8496c0ec",
   "metadata": {},
   "outputs": [
    {
     "name": "stdout",
     "output_type": "stream",
     "text": [
      "Is [1, 2, 4, 3] sorted? False\n"
     ]
    }
   ],
   "source": [
    "def is_sorted(lst):\n",
    "    \"\"\"Function return True if the list is sorted and False otherwise\"\"\"\n",
    "    lst_sorted = lst[:]\n",
    "    lst_sorted.sort()\n",
    "    return lst == lst_sorted\n",
    "\n",
    "lst = [1, 2, 4, 3]\n",
    "print(f\"Is {lst} sorted? {is_sorted(lst)}\")"
   ]
  }
 ],
 "metadata": {
  "kernelspec": {
   "display_name": "Python 3 (ipykernel)",
   "language": "python",
   "name": "python3"
  },
  "language_info": {
   "codemirror_mode": {
    "name": "ipython",
    "version": 3
   },
   "file_extension": ".py",
   "mimetype": "text/x-python",
   "name": "python",
   "nbconvert_exporter": "python",
   "pygments_lexer": "ipython3",
   "version": "3.9.12"
  }
 },
 "nbformat": 4,
 "nbformat_minor": 5
}
