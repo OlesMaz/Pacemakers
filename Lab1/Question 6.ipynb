{
 "cells": [
  {
   "cell_type": "markdown",
   "id": "11f16dd4",
   "metadata": {},
   "source": [
    "# Question 6"
   ]
  },
  {
   "cell_type": "markdown",
   "id": "74e31ac2",
   "metadata": {},
   "source": [
    "Write a Python program that accepts an integer (n) and computes the value of n+nn+nnn"
   ]
  },
  {
   "cell_type": "markdown",
   "id": "d941f14d",
   "metadata": {},
   "source": [
    "# Answer"
   ]
  },
  {
   "cell_type": "code",
   "execution_count": null,
   "id": "7226afaf",
   "metadata": {},
   "outputs": [],
   "source": [
    "def value(n):\n",
    "    \n",
    "    \"\"\"\" accepts an integer(n) and return\n",
    "    value of n+nn+nnn \"\"\"\n",
    "   \n",
    "    return n + (n*n) + (n*n*n)\n",
    "\n",
    "x = int(input(\"Enter an integer(n): \"))\n",
    "print(f\" The value is {value(x)}\")"
   ]
  },
  {
   "cell_type": "code",
   "execution_count": null,
   "id": "ba928ad1",
   "metadata": {},
   "outputs": [],
   "source": []
  },
  {
   "cell_type": "code",
   "execution_count": null,
   "id": "c45738f9",
   "metadata": {},
   "outputs": [],
   "source": []
  },
  {
   "cell_type": "code",
   "execution_count": null,
   "id": "54a58236",
   "metadata": {},
   "outputs": [],
   "source": []
  }
 ],
 "metadata": {
  "kernelspec": {
   "display_name": "Python 3 (ipykernel)",
   "language": "python",
   "name": "python3"
  },
  "language_info": {
   "codemirror_mode": {
    "name": "ipython",
    "version": 3
   },
   "file_extension": ".py",
   "mimetype": "text/x-python",
   "name": "python",
   "nbconvert_exporter": "python",
   "pygments_lexer": "ipython3",
   "version": "3.9.7"
  }
 },
 "nbformat": 4,
 "nbformat_minor": 5
}
