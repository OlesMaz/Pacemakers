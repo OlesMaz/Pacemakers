{
 "cells": [
  {
   "cell_type": "markdown",
   "id": "1adb0687",
   "metadata": {},
   "source": [
    "# Question 12"
   ]
  },
  {
   "cell_type": "markdown",
   "id": "a1ebda8a",
   "metadata": {},
   "source": [
    "Write a program that asks the user how many credits they have taken. If they have taken 23 or less, print that the student is a freshman. If they have taken between 24 and 53, print that they are a sophomore. The range for juniors is 54 to 83, and for seniors it is 84 and over."
   ]
  },
  {
   "cell_type": "markdown",
   "id": "06dd9cea",
   "metadata": {},
   "source": [
    "# Answer"
   ]
  },
  {
   "cell_type": "code",
   "execution_count": 2,
   "id": "824a36b8",
   "metadata": {},
   "outputs": [
    {
     "name": "stdout",
     "output_type": "stream",
     "text": [
      "How many credits you have taken? 67\n",
      "Student is junior\n"
     ]
    }
   ],
   "source": [
    "def student_credits(credits):\n",
    "    \n",
    "    \"\"\"\" asks the user how many credits they have taken \n",
    "    and sort them for: freshman, sophomore, juniors and seniors \"\"\"\n",
    "  \n",
    "    if credits <= 0:\n",
    "        print(\"It must be a positive number(or not 0)\")\n",
    "    elif credits <= 23:\n",
    "        print(\"Student is a freshman\")\n",
    "    elif credits <= 53:\n",
    "        print(\"Student is sophomore\")\n",
    "    elif credits <= 83:\n",
    "        print(\"Student is junior\")\n",
    "    elif credits >= 84:\n",
    "        print(\"Student is senior\")\n",
    "    else:\n",
    "        print(\"It's not a number\")\n",
    "        \n",
    "x = int(input(\"How many credits you have taken? \"))\n",
    "student_credits(x)"
   ]
  },
  {
   "cell_type": "code",
   "execution_count": null,
   "id": "a60d59dc",
   "metadata": {},
   "outputs": [],
   "source": []
  }
 ],
 "metadata": {
  "kernelspec": {
   "display_name": "Python 3 (ipykernel)",
   "language": "python",
   "name": "python3"
  },
  "language_info": {
   "codemirror_mode": {
    "name": "ipython",
    "version": 3
   },
   "file_extension": ".py",
   "mimetype": "text/x-python",
   "name": "python",
   "nbconvert_exporter": "python",
   "pygments_lexer": "ipython3",
   "version": "3.9.7"
  }
 },
 "nbformat": 4,
 "nbformat_minor": 5
}
