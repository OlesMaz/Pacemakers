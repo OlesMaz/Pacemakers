{
 "cells": [
  {
   "cell_type": "markdown",
   "id": "886135ec",
   "metadata": {},
   "source": [
    "Question 13"
   ]
  },
  {
   "cell_type": "markdown",
   "id": "c91bfe3f",
   "metadata": {},
   "source": [
    "Write a program that asks the user to enter a length in centimeters. If the user enters a negative length, \n",
    "the program should tell the user that the entry is invalid. Otherwise, the program should convert the length to inches\n",
    "and print out the result. There are 2.54 centimeters in an inch."
   ]
  },
  {
   "cell_type": "markdown",
   "id": "6d72f70a",
   "metadata": {},
   "source": [
    "Answer"
   ]
  },
  {
   "cell_type": "code",
   "execution_count": 7,
   "id": "b440c166",
   "metadata": {
    "scrolled": false
   },
   "outputs": [
    {
     "name": "stdout",
     "output_type": "stream",
     "text": [
      "Enter length in cm: 4.54\n",
      "Length in inches: 1.79\n"
     ]
    }
   ],
   "source": [
    "length = float(input('Enter length in cm: '))\n",
    "def centimeters_to_inches(length):\n",
    "    '''A function that converts centimeters in inches'''\n",
    "    if length < 0:\n",
    "        return 'invalid entry'\n",
    "    return round(length/2.54, 2)\n",
    "   \n",
    "\n",
    "centimeters_to_inches(length)\n",
    "print(f\"Length in inches: {centimeters_to_inches(length)}\")\n",
    "\n",
    "\n",
    "    \n",
    "    "
   ]
  },
  {
   "cell_type": "code",
   "execution_count": null,
   "id": "e19fc873",
   "metadata": {},
   "outputs": [],
   "source": []
  }
 ],
 "metadata": {
  "kernelspec": {
   "display_name": "Python 3 (ipykernel)",
   "language": "python",
   "name": "python3"
  },
  "language_info": {
   "codemirror_mode": {
    "name": "ipython",
    "version": 3
   },
   "file_extension": ".py",
   "mimetype": "text/x-python",
   "name": "python",
   "nbconvert_exporter": "python",
   "pygments_lexer": "ipython3",
   "version": "3.9.7"
  }
 },
 "nbformat": 4,
 "nbformat_minor": 5
}
