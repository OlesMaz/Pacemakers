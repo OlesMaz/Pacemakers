{
 "cells": [
  {
   "cell_type": "markdown",
   "id": "9d1d64cb",
   "metadata": {},
   "source": [
    "Question 13\n",
    "Write a program that asks the user to enter a length in centimeters. If the user enters a negative length, the program should tell the user that the entry is invalid. Otherwise, the program should convert the length to inches and print out the result. There are 2.54 centimeters in an inch."
   ]
  },
  {
   "cell_type": "code",
   "execution_count": null,
   "id": "b440c166",
   "metadata": {
    "scrolled": false
   },
   "outputs": [],
   "source": [
    "def centimeters_in_inch(length):\n",
    "    if length < 0:\n",
    "        return 'invalid entry'\n",
    "    else:\n",
    "        inches = length/2.54\n",
    "        rounded_inches = round(inches, 2)\n",
    "        print(rounded_inches, 'inches') \n",
    "length = int(input('Enter length in cm: '))\n",
    "centimeters_in_inch(length)\n",
    "\n",
    "\n",
    "    \n",
    "    "
   ]
  }
 ],
 "metadata": {
  "kernelspec": {
   "display_name": "Python 3 (ipykernel)",
   "language": "python",
   "name": "python3"
  },
  "language_info": {
   "codemirror_mode": {
    "name": "ipython",
    "version": 3
   },
   "file_extension": ".py",
   "mimetype": "text/x-python",
   "name": "python",
   "nbconvert_exporter": "python",
   "pygments_lexer": "ipython3",
   "version": "3.9.7"
  }
 },
 "nbformat": 4,
 "nbformat_minor": 5
}
