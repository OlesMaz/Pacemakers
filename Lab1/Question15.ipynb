{
 "cells": [
  {
   "cell_type": "markdown",
   "id": "023d20ce",
   "metadata": {},
   "source": [
    "Question 15 A store charges  12 𝑝𝑒𝑟 𝑖𝑡𝑒𝑚 𝑖𝑓 𝑦𝑜𝑢 𝑏𝑢𝑦 𝑙𝑒𝑠𝑠 𝑡ℎ𝑎𝑛 10 𝑖𝑡𝑒𝑚𝑠.𝐼𝑓𝑦𝑜𝑢 𝑏𝑢𝑦 𝑏𝑒𝑡𝑤𝑒𝑒𝑛 10 𝑎𝑛𝑑 99 𝑖𝑡𝑒𝑚𝑠,𝑡ℎ𝑒 𝑐𝑜𝑠 𝑡𝑖𝑠 10 per item. If you buy 100 or more items, the cost is $7 per item. Write a program that asks the user how many items they are buying and prints the total cost."
   ]
  },
  {
   "cell_type": "code",
   "execution_count": null,
   "id": "d1558fb3",
   "metadata": {},
   "outputs": [],
   "source": [
    "def total_cost(number):\n",
    "    '''A function that finds out the total cost of purchases by their number'''\n",
    "    if number < 0:\n",
    "        return 'invalid entry'\n",
    "    elif  0 < number < 10:\n",
    "        return number*12\n",
    "    elif number > 99:\n",
    "        return number*7\n",
    "    else:\n",
    "        return  number*10\n",
    "number = int(input('Enter the number of items you bought: '))\n",
    "total_cost(number)"
   ]
  }
 ],
 "metadata": {
  "kernelspec": {
   "display_name": "Python 3 (ipykernel)",
   "language": "python",
   "name": "python3"
  },
  "language_info": {
   "codemirror_mode": {
    "name": "ipython",
    "version": 3
   },
   "file_extension": ".py",
   "mimetype": "text/x-python",
   "name": "python",
   "nbconvert_exporter": "python",
   "pygments_lexer": "ipython3",
   "version": "3.9.7"
  }
 },
 "nbformat": 4,
 "nbformat_minor": 5
}
