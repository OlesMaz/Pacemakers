{
 "cells": [
  {
   "cell_type": "markdown",
   "id": "92c37d1b",
   "metadata": {},
   "source": [
    "Question 18 Write a function that reverse the tuple."
   ]
  },
  {
   "cell_type": "code",
   "execution_count": null,
   "id": "945d95a5",
   "metadata": {},
   "outputs": [],
   "source": [
    "def reverse_tup(tuples):\n",
    "    '''A function that reverse the tuple by slicing'''\n",
    "    reversed_tuple = tuples[::-1]\n",
    "    return reversed_tuple\n",
    "      \n",
    "tuples = ('a','b','c','d','e','f','g')\n",
    "reverse_tup(tuples)"
   ]
  }
 ],
 "metadata": {
  "kernelspec": {
   "display_name": "Python 3 (ipykernel)",
   "language": "python",
   "name": "python3"
  },
  "language_info": {
   "codemirror_mode": {
    "name": "ipython",
    "version": 3
   },
   "file_extension": ".py",
   "mimetype": "text/x-python",
   "name": "python",
   "nbconvert_exporter": "python",
   "pygments_lexer": "ipython3",
   "version": "3.9.7"
  }
 },
 "nbformat": 4,
 "nbformat_minor": 5
}
