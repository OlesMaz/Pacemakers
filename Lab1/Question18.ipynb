{
 "cells": [
  {
   "cell_type": "markdown",
   "id": "1b013f32",
   "metadata": {},
   "source": [
    "Question 18"
   ]
  },
  {
   "cell_type": "markdown",
   "id": "f13af70b",
   "metadata": {},
   "source": [
    "Write a function that reverse the tuple."
   ]
  },
  {
   "cell_type": "markdown",
   "id": "a1a72250",
   "metadata": {},
   "source": [
    "Answer"
   ]
  },
  {
   "cell_type": "code",
   "execution_count": 2,
   "id": "945d95a5",
   "metadata": {},
   "outputs": [
    {
     "name": "stdout",
     "output_type": "stream",
     "text": [
      "Reversed tuple: ('g', 'f', 'e', 'd', 'c', 'b', 'a')\n"
     ]
    }
   ],
   "source": [
    "def reverse_tup(tup):\n",
    "    '''A function that reverse the tuple by slicing'''\n",
    "    return tup[::-1]\n",
    "      \n",
    "tup = ('a','b','c','d','e','f','g')\n",
    "print(f\"Reversed tuple: {reverse_tup(tup)}\")"
   ]
  }
 ],
 "metadata": {
  "kernelspec": {
   "display_name": "Python 3 (ipykernel)",
   "language": "python",
   "name": "python3"
  },
  "language_info": {
   "codemirror_mode": {
    "name": "ipython",
    "version": 3
   },
   "file_extension": ".py",
   "mimetype": "text/x-python",
   "name": "python",
   "nbconvert_exporter": "python",
   "pygments_lexer": "ipython3",
   "version": "3.9.7"
  }
 },
 "nbformat": 4,
 "nbformat_minor": 5
}
