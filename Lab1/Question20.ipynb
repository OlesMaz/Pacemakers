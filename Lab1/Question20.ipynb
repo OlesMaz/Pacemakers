{
 "cells": [
  {
   "cell_type": "markdown",
   "id": "a4069a91",
   "metadata": {},
   "source": [
    "Question 20 Write a function that removes empty strings from the list of strings."
   ]
  },
  {
   "cell_type": "code",
   "execution_count": null,
   "id": "c9939282",
   "metadata": {},
   "outputs": [],
   "source": [
    "def remove_empty(str_list):\n",
    "    '''a function that removes empty strings from the list of strings'''\n",
    "    for i in str_list:\n",
    "        if(len(i)==0):\n",
    "            str_list.remove(i)\n",
    "    return str_list\n",
    "    \n",
    "\n",
    "str_list = ['', 'a', 'b', '', 'c']\n",
    "remove_empty(str_list)"
   ]
  }
 ],
 "metadata": {
  "kernelspec": {
   "display_name": "Python 3 (ipykernel)",
   "language": "python",
   "name": "python3"
  },
  "language_info": {
   "codemirror_mode": {
    "name": "ipython",
    "version": 3
   },
   "file_extension": ".py",
   "mimetype": "text/x-python",
   "name": "python",
   "nbconvert_exporter": "python",
   "pygments_lexer": "ipython3",
   "version": "3.9.7"
  }
 },
 "nbformat": 4,
 "nbformat_minor": 5
}
