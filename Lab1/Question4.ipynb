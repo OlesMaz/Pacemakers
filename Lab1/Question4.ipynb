{
 "cells": [
  {
   "cell_type": "markdown",
   "id": "a04ba7ab",
   "metadata": {},
   "source": [
    "# Question 4"
   ]
  },
  {
   "cell_type": "markdown",
   "id": "49acfad6",
   "metadata": {},
   "source": [
    "Write a Python program which accepts the radius of a circle from the user and compute the area."
   ]
  },
  {
   "cell_type": "markdown",
   "id": "5ffc0729",
   "metadata": {},
   "source": [
    "# Answer"
   ]
  },
  {
   "cell_type": "code",
   "execution_count": null,
   "id": "a2f536ab",
   "metadata": {},
   "outputs": [],
   "source": [
    "from math import pi\n",
    "def area_of_circle(radius):\n",
    "    \"\"\" accepts the radius of cirlce \n",
    "    from the user and computes the area\"\"\"\n",
    "    return pi*(radius**2)\n",
    "\n",
    "x = float(input(\"Enter the radius: \"))\n",
    "print(f\"The area is {area_of_circle(x)}\")"
   ]
  },
  {
   "cell_type": "code",
   "execution_count": null,
   "id": "803e780b",
   "metadata": {},
   "outputs": [],
   "source": []
  },
  {
   "cell_type": "code",
   "execution_count": null,
   "id": "5d39f508",
   "metadata": {},
   "outputs": [],
   "source": []
  }
 ],
 "metadata": {
  "kernelspec": {
   "display_name": "Python 3 (ipykernel)",
   "language": "python",
   "name": "python3"
  },
  "language_info": {
   "codemirror_mode": {
    "name": "ipython",
    "version": 3
   },
   "file_extension": ".py",
   "mimetype": "text/x-python",
   "name": "python",
   "nbconvert_exporter": "python",
   "pygments_lexer": "ipython3",
   "version": "3.9.7"
  }
 },
 "nbformat": 4,
 "nbformat_minor": 5
}
