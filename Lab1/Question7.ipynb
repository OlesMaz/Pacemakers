{
 "cells": [
  {
   "cell_type": "markdown",
   "id": "6ef0ca2a",
   "metadata": {},
   "source": [
    "# Question 7"
   ]
  },
  {
   "cell_type": "markdown",
   "id": "b6dc9c26",
   "metadata": {},
   "source": [
    "A lot of cell phones have tip calculators. Write one. Ask the user for the price of the meal and the percent tip they want to leave. Then print both the tip amount and the total bill with the tip included."
   ]
  },
  {
   "cell_type": "markdown",
   "id": "c3f3d953",
   "metadata": {},
   "source": [
    "# Answer"
   ]
  },
  {
   "cell_type": "code",
   "execution_count": 3,
   "id": "edc6e309",
   "metadata": {},
   "outputs": [
    {
     "name": "stdout",
     "output_type": "stream",
     "text": [
      "Enter the price of the meal: 25\n",
      "Enter the percent tip you want to leave: 5\n",
      "The total bill with the tip included:(1.25, 26.25)\n"
     ]
    }
   ],
   "source": [
    "def tip_calculator(price_meal, percent_tip):\n",
    "    \n",
    "    \"\"\"\" asks from user the price of the meal and the percent tip, \n",
    "    print,returns tip amount \"\"\"\n",
    "\n",
    "    tip = (price_meal * percent_tip)/100\n",
    "    return tip\n",
    "\n",
    "x = float(input(\"Enter the price of the meal: \"))\n",
    "y = float(input(\"Enter the percent tip you want to leave: \"))\n",
    "print(f\"The tip amount and the total bill with the tip included:{tip_calculator(x,y) , tip_calculator(x,y) + x}\")        "
   ]
  }
 ],
 "metadata": {
  "kernelspec": {
   "display_name": "Python 3 (ipykernel)",
   "language": "python",
   "name": "python3"
  },
  "language_info": {
   "codemirror_mode": {
    "name": "ipython",
    "version": 3
   },
   "file_extension": ".py",
   "mimetype": "text/x-python",
   "name": "python",
   "nbconvert_exporter": "python",
   "pygments_lexer": "ipython3",
   "version": "3.9.7"
  }
 },
 "nbformat": 4,
 "nbformat_minor": 5
}
