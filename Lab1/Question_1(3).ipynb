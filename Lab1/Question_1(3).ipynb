{
 "cells": [
  {
   "cell_type": "markdown",
   "id": "b339babe",
   "metadata": {},
   "source": [
    "## Question 1"
   ]
  },
  {
   "cell_type": "markdown",
   "id": "0a81688e",
   "metadata": {},
   "source": [
    "Write a print statement to print the mixed fraction 3 5/8 as a floating point number and as an integer."
   ]
  },
  {
   "cell_type": "markdown",
   "id": "454c5f78",
   "metadata": {},
   "source": [
    "## Question 3"
   ]
  },
  {
   "cell_type": "markdown",
   "id": "0eda8983",
   "metadata": {},
   "source": [
    "Write a print statement to print the mixed fraction 3 5/8 as a floating point number and as an integer."
   ]
  },
  {
   "cell_type": "markdown",
   "id": "25b84c19",
   "metadata": {},
   "source": [
    "## Answer"
   ]
  },
  {
   "cell_type": "code",
   "execution_count": 1,
   "id": "491d05e6",
   "metadata": {},
   "outputs": [
    {
     "name": "stdout",
     "output_type": "stream",
     "text": [
      "3 5/8 is a 3.625 = 3 + 0.625\n"
     ]
    }
   ],
   "source": [
    "print(f\"3 5/8 is a {3+5/8} = {3} + {5/8}\")"
   ]
  }
 ],
 "metadata": {
  "kernelspec": {
   "display_name": "Python 3 (ipykernel)",
   "language": "python",
   "name": "python3"
  },
  "language_info": {
   "codemirror_mode": {
    "name": "ipython",
    "version": 3
   },
   "file_extension": ".py",
   "mimetype": "text/x-python",
   "name": "python",
   "nbconvert_exporter": "python",
   "pygments_lexer": "ipython3",
   "version": "3.9.12"
  }
 },
 "nbformat": 4,
 "nbformat_minor": 5
}
