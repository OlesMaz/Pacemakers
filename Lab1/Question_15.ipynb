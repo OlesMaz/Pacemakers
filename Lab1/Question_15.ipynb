{
 "cells": [
  {
   "cell_type": "markdown",
   "id": "eb0b0dc5",
   "metadata": {},
   "source": [
    "Question 15"
   ]
  },
  {
   "cell_type": "markdown",
   "id": "b83e95f9",
   "metadata": {},
   "source": [
    "A store charges  $ 12 per item if you buy less than 10 items. If you buy between 10 and 99 items, the cost is  $ 10 per item. If you buy 100 or more items, the cost is $7 per item. Write a program that asks the user how many items they are buying and prints the total cost."
   ]
  },
  {
   "cell_type": "markdown",
   "id": "fbe3d1fe",
   "metadata": {},
   "source": [
    "Answer"
   ]
  },
  {
   "cell_type": "code",
   "execution_count": 2,
   "id": "d1558fb3",
   "metadata": {},
   "outputs": [
    {
     "name": "stdout",
     "output_type": "stream",
     "text": [
      "Enter the number of items you bought: -5\n",
      "Total cost: invalid entry\n"
     ]
    }
   ],
   "source": [
    "number = int(input('Enter the number of items you bought: '))\n",
    "def total_cost(number):\n",
    "    '''A function that finds out the total cost of purchases by their number'''\n",
    "    if number < 0:\n",
    "        return 'invalid entry'\n",
    "    elif  0 < number < 10:\n",
    "        return number*12\n",
    "    elif number > 99:\n",
    "        return number*7\n",
    "    return  number*10\n",
    "print(f\"Total cost: {total_cost(number)}\")"
   ]
  }
 ],
 "metadata": {
  "kernelspec": {
   "display_name": "Python 3 (ipykernel)",
   "language": "python",
   "name": "python3"
  },
  "language_info": {
   "codemirror_mode": {
    "name": "ipython",
    "version": 3
   },
   "file_extension": ".py",
   "mimetype": "text/x-python",
   "name": "python",
   "nbconvert_exporter": "python",
   "pygments_lexer": "ipython3",
   "version": "3.9.7"
  }
 },
 "nbformat": 4,
 "nbformat_minor": 5
}
