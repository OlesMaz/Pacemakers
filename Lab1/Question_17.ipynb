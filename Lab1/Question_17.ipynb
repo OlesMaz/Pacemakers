{
 "cells": [
  {
   "cell_type": "markdown",
   "id": "9eb3b64b",
   "metadata": {},
   "source": [
    "## Question 17"
   ]
  },
  {
   "cell_type": "markdown",
   "id": "795e62c0",
   "metadata": {},
   "source": [
    "Calculate number of business days between two dates using datetime module."
   ]
  },
  {
   "cell_type": "markdown",
   "id": "cc2f4504",
   "metadata": {},
   "source": [
    "## Answer"
   ]
  },
  {
   "cell_type": "code",
   "execution_count": 15,
   "id": "38d72943",
   "metadata": {},
   "outputs": [
    {
     "name": "stdout",
     "output_type": "stream",
     "text": [
      "Enter the first date (\"yyyy-mm-dd\" format): 2022-02-24\n",
      "Enter the second date (\"yyyy-mm-dd\" format): 2022-09-22\n",
      "The number of business days between these two dates is: 149\n"
     ]
    }
   ],
   "source": [
    "from datetime import timedelta, datetime\n",
    "\n",
    "def business_days_count(date_1, date_2):\n",
    "    \"\"\"Function counts the number of business days in interval (date_1, date_2)\"\"\"\n",
    "    all_days = [date_1 + timedelta(i + 1) for i in range((date_2 - date_1).days - 1)]\n",
    "    business_days = [day for day in all_days if day.weekday() <= 4]\n",
    "    return len(business_days)\n",
    "\n",
    "date_1 = input('Enter the first date (\"yyyy-mm-dd\" format\"): ')\n",
    "date_2 = input('Enter the second date (\"yyyy-mm-dd\" format\"): ')\n",
    "date_1, date_2 = datetime(*list(map(int, date_1.split(\"-\")))), datetime(*list(map(int, date_2.split(\"-\"))))\n",
    "print(f\"The number of business days between these two dates is: {business_days_count(date_1, date_2)}\")"
   ]
  }
 ],
 "metadata": {
  "kernelspec": {
   "display_name": "Python 3 (ipykernel)",
   "language": "python",
   "name": "python3"
  },
  "language_info": {
   "codemirror_mode": {
    "name": "ipython",
    "version": 3
   },
   "file_extension": ".py",
   "mimetype": "text/x-python",
   "name": "python",
   "nbconvert_exporter": "python",
   "pygments_lexer": "ipython3",
   "version": "3.9.12"
  }
 },
 "nbformat": 4,
 "nbformat_minor": 5
}
