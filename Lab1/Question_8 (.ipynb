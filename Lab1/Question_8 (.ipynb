{
 "cells": [
  {
   "cell_type": "markdown",
   "id": "f16c5101",
   "metadata": {},
   "source": [
    "## Question 8"
   ]
  },
  {
   "cell_type": "markdown",
   "id": "37b605ef",
   "metadata": {},
   "source": [
    "Write a program that asks the user to enter three numbers: the day of birth, the month of birth and the year of birth (use three separate input statements). Print out the total number of days from birth."
   ]
  },
  {
   "cell_type": "markdown",
   "id": "9e42219b",
   "metadata": {},
   "source": [
    "## Answer"
   ]
  },
  {
   "cell_type": "code",
   "execution_count": 3,
   "id": "01903863",
   "metadata": {},
   "outputs": [
    {
     "name": "stdout",
     "output_type": "stream",
     "text": [
      "Input day of your birth 30\n",
      "Input month of your birth 07\n",
      "Input year of your birth2004\n",
      "6625 days have passed since your birth!\n"
     ]
    }
   ],
   "source": [
    "from datetime import date\n",
    "\n",
    "\n",
    "def days_from_birth(year, month, day):\n",
    "    \"\"\"Function calculates the number of days from your birth till today\"\"\"\n",
    "    return (date.today() - date(year, month, day)).days\n",
    "\n",
    "\n",
    "day = int(input('Input day of your birth: '))\n",
    "month = int(input('Input month of your birth: '))\n",
    "year = int(input('Input year of your birth: '))\n",
    "\n",
    "print(f\"{days_from_birth(year, month, day)} days have passed since your birth!\")\n"
   ]
  }
 ],
 "metadata": {
  "kernelspec": {
   "display_name": "Python 3 (ipykernel)",
   "language": "python",
   "name": "python3"
  },
  "language_info": {
   "codemirror_mode": {
    "name": "ipython",
    "version": 3
   },
   "file_extension": ".py",
   "mimetype": "text/x-python",
   "name": "python",
   "nbconvert_exporter": "python",
   "pygments_lexer": "ipython3",
   "version": "3.9.12"
  }
 },
 "nbformat": 4,
 "nbformat_minor": 5
}
